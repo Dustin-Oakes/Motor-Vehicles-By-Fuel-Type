{
 "cells": [
  {
   "cell_type": "code",
   "execution_count": null,
   "metadata": {},
   "outputs": [],
   "source": []
  }
 ],
 "metadata": {
  "kernelspec": {
   "display_name": "Python 3.10.7 64-bit",
   "language": "python",
   "name": "python3"
  },
  "language_info": {
   "name": "python",
   "version": "3.10.7"
  },
  "vscode": {
   "interpreter": {
    "hash": "e8e1c08217699957f76cb7698f3c5cc9be85213e8aa2792324c5180cf93224e4"
   }
  }
 },
 "nbformat": 4,
 "nbformat_minor": 5
}
