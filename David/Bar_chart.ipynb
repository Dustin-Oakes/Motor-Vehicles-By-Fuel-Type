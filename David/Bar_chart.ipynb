    # Importing nessesary modules 
import pandas as pd
import matplotlib.pyplot as plt

        # Set Data.
    # Data set was collected through (=CountIf) function in excel to count every individual sale of 'Make'. than seperated by only sales with 1,000 units or more.)
Data = pd.read_csv("../David/Make_by_Washington.csv")
Data.head()

   # Y and X axis
x =Data['Make']
y =Data['Sales']

    # ploting chart axis
plt.bar(x, y)

    #colors
B = ['IndianRed', 'skyblue', 'orange', 'pink', 'royalblue','rebeccapurple','brown','yellowgreen','darkorange', 'limegreen','orchid','mediumpurple','slateblue']

    #Draw horizantal Bar chart
fig, ax = plt.subplots(figsize=(25, 15))
ax.barh(Data['Make'], Data['Sales'], color=B)
ax.set_title('Most Popular Brands in Washington',fontsize=45)
fig.text(0.9, 0.20, '(Companies selling over 1,000 unnits)', fontsize=20,
         color='Black', ha='right', va='bottom',
         alpha=0.7)
ax.set_xlabel('Sales',fontsize=25)

        # invert top to bottom Bar chart 
ax.invert_yaxis()


plt.savefig("Bar_Graph.png")
