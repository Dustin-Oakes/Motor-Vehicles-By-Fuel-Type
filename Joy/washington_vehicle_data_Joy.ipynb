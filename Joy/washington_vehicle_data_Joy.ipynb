{
 "cells": [
  {
   "cell_type": "code",
   "execution_count": 2,
   "metadata": {},
   "outputs": [],
   "source": [
    "import os\n",
    "import pandas as pd\n",
    "import numpy\n",
    "import matplotlib.pyplot as plt\n",
    "\n"
   ]
  },
  {
   "cell_type": "code",
   "execution_count": 3,
   "metadata": {},
   "outputs": [],
   "source": [
    "csv_path = \"Resource/Electric_Vehicle_Population_Data.csv\""
   ]
  },
  {
   "cell_type": "code",
   "execution_count": 4,
   "metadata": {},
   "outputs": [],
   "source": [
    "car_df = pd.read_csv(csv_path)"
   ]
  },
  {
   "cell_type": "code",
   "execution_count": 5,
   "metadata": {},
   "outputs": [],
   "source": [
    "WA_df = car_df.loc[(car_df[\"State\"] == \"WA\")]\n"
   ]
  },
  {
   "cell_type": "code",
   "execution_count": 6,
   "metadata": {},
   "outputs": [],
   "source": [
    "WA_2011_df = WA_df.loc[(WA_df[\"Model Year\"] > 2010)]"
   ]
  },
  {
   "cell_type": "code",
   "execution_count": 7,
   "metadata": {},
   "outputs": [],
   "source": [
    "WA_2011_df = WA_2011_df.drop(columns=['Electric Utility', \"Base MSRP\"])"
   ]
  },
  {
   "cell_type": "code",
   "execution_count": 8,
   "metadata": {},
   "outputs": [],
   "source": [
    "close_df = WA_2011_df"
   ]
  },
  {
   "cell_type": "code",
   "execution_count": 9,
   "metadata": {},
   "outputs": [],
   "source": [
    "close_df['Vehicle Location'] = close_df['Vehicle Location'].astype('str').str.replace('POINT', '')\n"
   ]
  },
  {
   "cell_type": "code",
   "execution_count": 10,
   "metadata": {},
   "outputs": [
    {
     "data": {
      "text/html": [
       "<div>\n",
       "<style scoped>\n",
       "    .dataframe tbody tr th:only-of-type {\n",
       "        vertical-align: middle;\n",
       "    }\n",
       "\n",
       "    .dataframe tbody tr th {\n",
       "        vertical-align: top;\n",
       "    }\n",
       "\n",
       "    .dataframe thead th {\n",
       "        text-align: right;\n",
       "    }\n",
       "</style>\n",
       "<table border=\"1\" class=\"dataframe\">\n",
       "  <thead>\n",
       "    <tr style=\"text-align: right;\">\n",
       "      <th></th>\n",
       "      <th>VIN (1-10)</th>\n",
       "      <th>County</th>\n",
       "      <th>City</th>\n",
       "      <th>State</th>\n",
       "      <th>Postal Code</th>\n",
       "      <th>Model Year</th>\n",
       "      <th>Make</th>\n",
       "      <th>Model</th>\n",
       "      <th>Electric Vehicle Type</th>\n",
       "      <th>Clean Alternative Fuel Vehicle (CAFV) Eligibility</th>\n",
       "      <th>Electric Range</th>\n",
       "      <th>Legislative District</th>\n",
       "      <th>DOL Vehicle ID</th>\n",
       "      <th>Vehicle Location</th>\n",
       "      <th>2020 Census Tract</th>\n",
       "    </tr>\n",
       "  </thead>\n",
       "  <tbody>\n",
       "    <tr>\n",
       "      <th>1</th>\n",
       "      <td>5YJXCBE27J</td>\n",
       "      <td>Island</td>\n",
       "      <td>Greenbank</td>\n",
       "      <td>WA</td>\n",
       "      <td>98253</td>\n",
       "      <td>2018</td>\n",
       "      <td>TESLA</td>\n",
       "      <td>MODEL X</td>\n",
       "      <td>Battery Electric Vehicle (BEV)</td>\n",
       "      <td>Clean Alternative Fuel Vehicle Eligible</td>\n",
       "      <td>238</td>\n",
       "      <td>10.0</td>\n",
       "      <td>326880081</td>\n",
       "      <td>(-122.575569 48.08489)</td>\n",
       "      <td>5.302997e+10</td>\n",
       "    </tr>\n",
       "    <tr>\n",
       "      <th>8</th>\n",
       "      <td>1N4BZ0CP8H</td>\n",
       "      <td>Chelan</td>\n",
       "      <td>Wenatchee</td>\n",
       "      <td>WA</td>\n",
       "      <td>98801</td>\n",
       "      <td>2017</td>\n",
       "      <td>NISSAN</td>\n",
       "      <td>LEAF</td>\n",
       "      <td>Battery Electric Vehicle (BEV)</td>\n",
       "      <td>Clean Alternative Fuel Vehicle Eligible</td>\n",
       "      <td>107</td>\n",
       "      <td>12.0</td>\n",
       "      <td>192768747</td>\n",
       "      <td>(-120.336499 47.425146)</td>\n",
       "      <td>5.300796e+10</td>\n",
       "    </tr>\n",
       "    <tr>\n",
       "      <th>10</th>\n",
       "      <td>WVWKR7AU3K</td>\n",
       "      <td>Snohomish</td>\n",
       "      <td>Edmonds</td>\n",
       "      <td>WA</td>\n",
       "      <td>98026</td>\n",
       "      <td>2019</td>\n",
       "      <td>VOLKSWAGEN</td>\n",
       "      <td>E-GOLF</td>\n",
       "      <td>Battery Electric Vehicle (BEV)</td>\n",
       "      <td>Clean Alternative Fuel Vehicle Eligible</td>\n",
       "      <td>125</td>\n",
       "      <td>32.0</td>\n",
       "      <td>477565112</td>\n",
       "      <td>(-122.333046 47.829439)</td>\n",
       "      <td>5.306105e+10</td>\n",
       "    </tr>\n",
       "    <tr>\n",
       "      <th>11</th>\n",
       "      <td>5YJ3E1EB0J</td>\n",
       "      <td>Island</td>\n",
       "      <td>Clinton</td>\n",
       "      <td>WA</td>\n",
       "      <td>98236</td>\n",
       "      <td>2018</td>\n",
       "      <td>TESLA</td>\n",
       "      <td>MODEL 3</td>\n",
       "      <td>Battery Electric Vehicle (BEV)</td>\n",
       "      <td>Clean Alternative Fuel Vehicle Eligible</td>\n",
       "      <td>215</td>\n",
       "      <td>10.0</td>\n",
       "      <td>476402678</td>\n",
       "      <td>(-122.35803 47.9796)</td>\n",
       "      <td>5.302997e+10</td>\n",
       "    </tr>\n",
       "    <tr>\n",
       "      <th>13</th>\n",
       "      <td>5YJ3E1EBXL</td>\n",
       "      <td>Snohomish</td>\n",
       "      <td>Brier</td>\n",
       "      <td>WA</td>\n",
       "      <td>98036</td>\n",
       "      <td>2020</td>\n",
       "      <td>TESLA</td>\n",
       "      <td>MODEL 3</td>\n",
       "      <td>Battery Electric Vehicle (BEV)</td>\n",
       "      <td>Clean Alternative Fuel Vehicle Eligible</td>\n",
       "      <td>322</td>\n",
       "      <td>1.0</td>\n",
       "      <td>103288153</td>\n",
       "      <td>(-122.281856 47.811678)</td>\n",
       "      <td>5.306105e+10</td>\n",
       "    </tr>\n",
       "  </tbody>\n",
       "</table>\n",
       "</div>"
      ],
      "text/plain": [
       "    VIN (1-10)     County       City State  Postal Code  Model Year  \\\n",
       "1   5YJXCBE27J     Island  Greenbank    WA        98253        2018   \n",
       "8   1N4BZ0CP8H     Chelan  Wenatchee    WA        98801        2017   \n",
       "10  WVWKR7AU3K  Snohomish    Edmonds    WA        98026        2019   \n",
       "11  5YJ3E1EB0J     Island    Clinton    WA        98236        2018   \n",
       "13  5YJ3E1EBXL  Snohomish      Brier    WA        98036        2020   \n",
       "\n",
       "          Make    Model           Electric Vehicle Type  \\\n",
       "1        TESLA  MODEL X  Battery Electric Vehicle (BEV)   \n",
       "8       NISSAN     LEAF  Battery Electric Vehicle (BEV)   \n",
       "10  VOLKSWAGEN   E-GOLF  Battery Electric Vehicle (BEV)   \n",
       "11       TESLA  MODEL 3  Battery Electric Vehicle (BEV)   \n",
       "13       TESLA  MODEL 3  Battery Electric Vehicle (BEV)   \n",
       "\n",
       "   Clean Alternative Fuel Vehicle (CAFV) Eligibility  Electric Range  \\\n",
       "1            Clean Alternative Fuel Vehicle Eligible             238   \n",
       "8            Clean Alternative Fuel Vehicle Eligible             107   \n",
       "10           Clean Alternative Fuel Vehicle Eligible             125   \n",
       "11           Clean Alternative Fuel Vehicle Eligible             215   \n",
       "13           Clean Alternative Fuel Vehicle Eligible             322   \n",
       "\n",
       "    Legislative District  DOL Vehicle ID          Vehicle Location  \\\n",
       "1                   10.0       326880081    (-122.575569 48.08489)   \n",
       "8                   12.0       192768747   (-120.336499 47.425146)   \n",
       "10                  32.0       477565112   (-122.333046 47.829439)   \n",
       "11                  10.0       476402678      (-122.35803 47.9796)   \n",
       "13                   1.0       103288153   (-122.281856 47.811678)   \n",
       "\n",
       "    2020 Census Tract  \n",
       "1        5.302997e+10  \n",
       "8        5.300796e+10  \n",
       "10       5.306105e+10  \n",
       "11       5.302997e+10  \n",
       "13       5.306105e+10  "
      ]
     },
     "execution_count": 10,
     "metadata": {},
     "output_type": "execute_result"
    }
   ],
   "source": [
    "close_df[\"Postal Code\"] = close_df[\"Postal Code\"].astype(int)\n",
    "close_df.head()"
   ]
  },
  {
   "cell_type": "markdown",
   "metadata": {},
   "source": [
    "Stacked Bar - Top 3 most popular by county"
   ]
  },
  {
   "cell_type": "code",
   "execution_count": 18,
   "metadata": {},
   "outputs": [
    {
     "data": {
      "text/plain": [
       "pandas.core.series.Series"
      ]
     },
     "execution_count": 18,
     "metadata": {},
     "output_type": "execute_result"
    }
   ],
   "source": [
    "county_brand_df = close_df[[\"County\", \"Make\"]]\n",
    "df = county_brand_df.groupby(\"County\").value_counts()\n",
    "df"
   ]
  },
  {
   "cell_type": "code",
   "execution_count": 57,
   "metadata": {},
   "outputs": [
    {
     "data": {
      "text/plain": [
       "Index(['Adams', 'Asotin', 'Benton', 'Chelan', 'Clallam', 'Clark', 'Columbia',\n",
       "       'Cowlitz', 'Douglas', 'Ferry', 'Franklin', 'Garfield', 'Grant',\n",
       "       'Grays Harbor', 'Island', 'Jefferson', 'King', 'Kitsap', 'Kittitas',\n",
       "       'Klickitat', 'Lewis', 'Lincoln', 'Mason', 'Okanogan', 'Pacific',\n",
       "       'Pend Oreille', 'Pierce', 'San Juan', 'Skagit', 'Skamania', 'Snohomish',\n",
       "       'Spokane', 'Stevens', 'Thurston', 'Wahkiakum', 'Walla Walla', 'Whatcom',\n",
       "       'Whitman', 'Yakima'],\n",
       "      dtype='object', name='County')"
      ]
     },
     "execution_count": 57,
     "metadata": {},
     "output_type": "execute_result"
    }
   ],
   "source": [
    "Tesla = county_brand_df.loc[county_brand_df[\"Make\"] == \"TESLA\"]\n",
    "#clean_Tesla = Tesla.loc[(Tesla[\"County\"]!= \"Ferry\") & (Tesla[\"County\"]!= \"Garfield\")]\n",
    "#clean_Tesla\n",
    "Tesla_count = Tesla.groupby(Tesla[\"County\"]).count()\n",
    "Tesla_count.index"
   ]
  },
  {
   "cell_type": "code",
   "execution_count": 68,
   "metadata": {},
   "outputs": [
    {
     "data": {
      "text/plain": [
       "(37, 1)"
      ]
     },
     "execution_count": 68,
     "metadata": {},
     "output_type": "execute_result"
    }
   ],
   "source": [
    "Tesla = county_brand_df.loc[county_brand_df[\"Make\"] == \"TESLA\"]\n",
    "clean_Tesla = Tesla.loc[(Tesla[\"County\"]!= \"Ferry\") & (Tesla[\"County\"]!= \"Garfield\")]\n",
    "clean_Tesla\n",
    "Tesla_count = clean_Tesla.groupby(clean_Tesla[\"County\"]).count()\n",
    "Tesla_count.shape"
   ]
  },
  {
   "cell_type": "code",
   "execution_count": 69,
   "metadata": {},
   "outputs": [
    {
     "data": {
      "text/plain": [
       "(37, 1)"
      ]
     },
     "execution_count": 69,
     "metadata": {},
     "output_type": "execute_result"
    }
   ],
   "source": [
    "Ford = county_brand_df.loc[county_brand_df[\"Make\"] == \"FORD\"]\n",
    "clean_Ford = Ford.loc[Ford[\"County\"]!= \"Garfield\"]\n",
    "Ford_count = clean_Ford.groupby(clean_Ford[\"County\"]).count()\n",
    "Ford_count.shape"
   ]
  },
  {
   "cell_type": "code",
   "execution_count": 71,
   "metadata": {},
   "outputs": [
    {
     "data": {
      "text/plain": [
       "(37, 1)"
      ]
     },
     "execution_count": 71,
     "metadata": {},
     "output_type": "execute_result"
    }
   ],
   "source": [
    "Chevrolet = county_brand_df.loc[county_brand_df[\"Make\"] == \"CHEVROLET\"]\n",
    "clean_Che = Chevrolet.loc[Chevrolet[\"County\"]!= \"Ferry\"]\n",
    "Chevrolet_count = clean_Che.groupby(clean_Che[\"County\"]).count()\n",
    "Chevrolet_count.shape"
   ]
  },
  {
   "cell_type": "code",
   "execution_count": 76,
   "metadata": {},
   "outputs": [
    {
     "data": {
      "image/png": "[encoded data removed]",
      "text/plain": [
       "<Figure size 640x480 with 1 Axes>"
      ]
     },
     "metadata": {},
     "output_type": "display_data"
    }
   ],
   "source": [
    "County = Tesla_count.index\n",
    "Tesla_number = Tesla_count[\"Make\"]\n",
    "Ford_number = Ford_count[\"Make\"]\n",
    "Chevrolet_number = Chevrolet_count[\"Make\"]\n",
    "\n",
    "\n",
    "\n",
    " \n",
    "# plot bars in stack manner\n",
    "plt.bar(County, Tesla_number, color='r')\n",
    "plt.bar(County, Ford_number, bottom=Tesla_number, color='b')\n",
    "plt.bar(County, Chevrolet_number, bottom=Tesla_number+Ford_number, color='y')\n",
    "#plt.bar(x, y4, bottom=y1+y2+y3, color='g')\n",
    "plt.xticks(rotation=90)\n",
    "plt.xlabel(\"County\")\n",
    "plt.ylabel(\"Amount\")\n",
    "plt.legend([\"Tesla\", \"Ford\", \"Chevrolet\"])\n",
    "plt.title(\"Electric brand sells in each county\")\n",
    "plt.show()"
   ]
  },
  {
   "cell_type": "code",
   "execution_count": 19,
   "metadata": {},
   "outputs": [
    {
     "ename": "KeyError",
     "evalue": "'False: boolean label can not be used without a boolean index'",
     "output_type": "error",
     "traceback": [
      "\u001b[0;31m---------------------------------------------------------------------------\u001b[0m",
      "\u001b[0;31mKeyError\u001b[0m                                  Traceback (most recent call last)",
      "\u001b[0;32m/var/folders/bk/gvxhl3kx4zv9t13q1slc_8h80000gn/T/ipykernel_40918/1618853355.py\u001b[0m in \u001b[0;36m<module>\u001b[0;34m\u001b[0m\n\u001b[1;32m      1\u001b[0m \u001b[0;31m# Extract the County and Make (Brand) data\u001b[0m\u001b[0;34m\u001b[0m\u001b[0;34m\u001b[0m\u001b[0m\n\u001b[0;32m----> 2\u001b[0;31m \u001b[0mFord\u001b[0m \u001b[0;34m=\u001b[0m \u001b[0mdf\u001b[0m\u001b[0;34m.\u001b[0m\u001b[0mloc\u001b[0m\u001b[0;34m[\u001b[0m\u001b[0;34m[\u001b[0m\u001b[0;34m\"Make\"\u001b[0m\u001b[0;34m]\u001b[0m \u001b[0;34m==\u001b[0m \u001b[0;34m\"FORD\"\u001b[0m\u001b[0;34m]\u001b[0m\u001b[0;34m\u001b[0m\u001b[0;34m\u001b[0m\u001b[0m\n\u001b[0m\u001b[1;32m      3\u001b[0m \u001b[0mTesla\u001b[0m\u001b[0;34m=\u001b[0m \u001b[0;34m[\u001b[0m\u001b[0;34m]\u001b[0m\u001b[0;34m\u001b[0m\u001b[0;34m\u001b[0m\u001b[0m\n\u001b[1;32m      4\u001b[0m \u001b[0mChevrolet\u001b[0m \u001b[0;34m=\u001b[0m \u001b[0;34m[\u001b[0m\u001b[0;34m]\u001b[0m\u001b[0;34m\u001b[0m\u001b[0;34m\u001b[0m\u001b[0m\n\u001b[1;32m      5\u001b[0m \u001b[0mNissan\u001b[0m \u001b[0;34m=\u001b[0m \u001b[0;34m[\u001b[0m\u001b[0;34m]\u001b[0m\u001b[0;34m\u001b[0m\u001b[0;34m\u001b[0m\u001b[0m\n",
      "\u001b[0;32m~/opt/anaconda3/lib/python3.9/site-packages/pandas/core/indexing.py\u001b[0m in \u001b[0;36m__getitem__\u001b[0;34m(self, key)\u001b[0m\n\u001b[1;32m    965\u001b[0m \u001b[0;34m\u001b[0m\u001b[0m\n\u001b[1;32m    966\u001b[0m             \u001b[0mmaybe_callable\u001b[0m \u001b[0;34m=\u001b[0m \u001b[0mcom\u001b[0m\u001b[0;34m.\u001b[0m\u001b[0mapply_if_callable\u001b[0m\u001b[0;34m(\u001b[0m\u001b[0mkey\u001b[0m\u001b[0;34m,\u001b[0m \u001b[0mself\u001b[0m\u001b[0;34m.\u001b[0m\u001b[0mobj\u001b[0m\u001b[0;34m)\u001b[0m\u001b[0;34m\u001b[0m\u001b[0;34m\u001b[0m\u001b[0m\n\u001b[0;32m--> 967\u001b[0;31m             \u001b[0;32mreturn\u001b[0m \u001b[0mself\u001b[0m\u001b[0;34m.\u001b[0m\u001b[0m_getitem_axis\u001b[0m\u001b[0;34m(\u001b[0m\u001b[0mmaybe_callable\u001b[0m\u001b[0;34m,\u001b[0m \u001b[0maxis\u001b[0m\u001b[0;34m=\u001b[0m\u001b[0maxis\u001b[0m\u001b[0;34m)\u001b[0m\u001b[0;34m\u001b[0m\u001b[0;34m\u001b[0m\u001b[0m\n\u001b[0m\u001b[1;32m    968\u001b[0m \u001b[0;34m\u001b[0m\u001b[0m\n\u001b[1;32m    969\u001b[0m     \u001b[0;32mdef\u001b[0m \u001b[0m_is_scalar_access\u001b[0m\u001b[0;34m(\u001b[0m\u001b[0mself\u001b[0m\u001b[0;34m,\u001b[0m \u001b[0mkey\u001b[0m\u001b[0;34m:\u001b[0m \u001b[0mtuple\u001b[0m\u001b[0;34m)\u001b[0m\u001b[0;34m:\u001b[0m\u001b[0;34m\u001b[0m\u001b[0;34m\u001b[0m\u001b[0m\n",
      "\u001b[0;32m~/opt/anaconda3/lib/python3.9/site-packages/pandas/core/indexing.py\u001b[0m in \u001b[0;36m_getitem_axis\u001b[0;34m(self, key, axis)\u001b[0m\n\u001b[1;32m   1202\u001b[0m \u001b[0;34m\u001b[0m\u001b[0m\n\u001b[1;32m   1203\u001b[0m         \u001b[0;31m# fall thru to straight lookup\u001b[0m\u001b[0;34m\u001b[0m\u001b[0;34m\u001b[0m\u001b[0m\n\u001b[0;32m-> 1204\u001b[0;31m         \u001b[0mself\u001b[0m\u001b[0;34m.\u001b[0m\u001b[0m_validate_key\u001b[0m\u001b[0;34m(\u001b[0m\u001b[0mkey\u001b[0m\u001b[0;34m,\u001b[0m \u001b[0maxis\u001b[0m\u001b[0;34m)\u001b[0m\u001b[0;34m\u001b[0m\u001b[0;34m\u001b[0m\u001b[0m\n\u001b[0m\u001b[1;32m   1205\u001b[0m         \u001b[0;32mreturn\u001b[0m \u001b[0mself\u001b[0m\u001b[0;34m.\u001b[0m\u001b[0m_get_label\u001b[0m\u001b[0;34m(\u001b[0m\u001b[0mkey\u001b[0m\u001b[0;34m,\u001b[0m \u001b[0maxis\u001b[0m\u001b[0;34m=\u001b[0m\u001b[0maxis\u001b[0m\u001b[0;34m)\u001b[0m\u001b[0;34m\u001b[0m\u001b[0;34m\u001b[0m\u001b[0m\n\u001b[1;32m   1206\u001b[0m \u001b[0;34m\u001b[0m\u001b[0m\n",
      "\u001b[0;32m~/opt/anaconda3/lib/python3.9/site-packages/pandas/core/indexing.py\u001b[0m in \u001b[0;36m_validate_key\u001b[0;34m(self, key, axis)\u001b[0m\n\u001b[1;32m   1009\u001b[0m             \u001b[0;32mor\u001b[0m \u001b[0mself\u001b[0m\u001b[0;34m.\u001b[0m\u001b[0mobj\u001b[0m\u001b[0;34m.\u001b[0m\u001b[0m_get_axis\u001b[0m\u001b[0;34m(\u001b[0m\u001b[0maxis\u001b[0m\u001b[0;34m)\u001b[0m\u001b[0;34m.\u001b[0m\u001b[0mdtype\u001b[0m\u001b[0;34m.\u001b[0m\u001b[0mname\u001b[0m \u001b[0;34m==\u001b[0m \u001b[0;34m\"boolean\"\u001b[0m\u001b[0;34m\u001b[0m\u001b[0;34m\u001b[0m\u001b[0m\n\u001b[1;32m   1010\u001b[0m         ):\n\u001b[0;32m-> 1011\u001b[0;31m             raise KeyError(\n\u001b[0m\u001b[1;32m   1012\u001b[0m                 \u001b[0;34mf\"{key}: boolean label can not be used without a boolean index\"\u001b[0m\u001b[0;34m\u001b[0m\u001b[0;34m\u001b[0m\u001b[0m\n\u001b[1;32m   1013\u001b[0m             )\n",
      "\u001b[0;31mKeyError\u001b[0m: 'False: boolean label can not be used without a boolean index'"
     ]
    }
   ],
   "source": [
    "# Extract the County and Make (Brand) data\n",
    "Ford = df.loc[[\"Make\"] == \"FORD\"]\n",
    "Tesla= []\n",
    "Chevrolet = []\n",
    "Nissan = []\n",
    "Ford\n",
    "\n",
    "\n",
    "#county_brand_df = close_df[[\"County\", \"Make\"]]\n",
    "#df= county_brand_df.groupby(county_brand_df[\"County\"]).value_counts()\n",
    "\n",
    "#df.plot(x='County', kind='bar', stacked=True,\n",
    "        #title='Stacked Bar Graph by dataframe',figsize=(100,8))\n",
    "#plt.show()"
   ]
  },
  {
   "cell_type": "code",
   "execution_count": null,
   "metadata": {},
   "outputs": [],
   "source": []
  }
 ],
 "metadata": {
  "kernelspec": {
   "display_name": "Python 3.9.15 ('base')",
   "language": "python",
   "name": "python3"
  },
  "language_info": {
   "codemirror_mode": {
    "name": "ipython",
    "version": 3
   },
   "file_extension": ".py",
   "mimetype": "text/x-python",
   "name": "python",
   "nbconvert_exporter": "python",
   "pygments_lexer": "ipython3",
   "version": "3.9.15"
  },
  "orig_nbformat": 4,
  "vscode": {
   "interpreter": {
    "hash": "e90aa3d4db3d37e6a06bad3da540223c91691ba443827ed2a0a08911f5e0bebd"
   }
  }
 },
 "nbformat": 4,
 "nbformat_minor": 2
}
